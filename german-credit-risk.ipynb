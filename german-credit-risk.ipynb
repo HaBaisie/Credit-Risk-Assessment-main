{
 "cells": [
  {
   "cell_type": "markdown",
   "id": "bce51af0",
   "metadata": {
    "papermill": {
     "duration": 0.020711,
     "end_time": "2023-05-31T00:06:57.395342",
     "exception": false,
     "start_time": "2023-05-31T00:06:57.374631",
     "status": "completed"
    },
    "tags": []
   },
   "source": [
    "# German Credit Risk"
   ]
  },
  {
   "cell_type": "markdown",
   "id": "95c4196a",
   "metadata": {
    "papermill": {
     "duration": 0.014357,
     "end_time": "2023-05-31T00:06:57.429611",
     "exception": false,
     "start_time": "2023-05-31T00:06:57.415254",
     "status": "completed"
    },
    "tags": []
   },
   "source": [
    "# Required Libraries and Data:"
   ]
  },
  {
   "cell_type": "code",
   "execution_count": 31,
   "id": "563010b7",
   "metadata": {
    "_cell_guid": "b1076dfc-b9ad-4769-8c92-a6c4dae69d19",
    "_uuid": "8f2839f25d086af736a60e9eeb907d3b93b6e0e5",
    "execution": {
     "iopub.execute_input": "2023-05-31T00:06:57.460295Z",
     "iopub.status.busy": "2023-05-31T00:06:57.459881Z",
     "iopub.status.idle": "2023-05-31T00:07:01.489729Z",
     "shell.execute_reply": "2023-05-31T00:07:01.488497Z"
    },
    "papermill": {
     "duration": 4.048755,
     "end_time": "2023-05-31T00:07:01.492822",
     "exception": false,
     "start_time": "2023-05-31T00:06:57.444067",
     "status": "completed"
    },
    "tags": []
   },
   "outputs": [],
   "source": [
    "import pandas as pd\n",
    "import numpy as np\n",
    "import seaborn as sns\n",
    "import matplotlib.pyplot as plt\n",
    "import plotly.express as px\n",
    "\n",
    "import warnings\n",
    "warnings.filterwarnings(\"ignore\")\n"
   ]
  },
  {
   "cell_type": "code",
   "execution_count": 32,
   "id": "e0f83423",
   "metadata": {
    "execution": {
     "iopub.execute_input": "2023-05-31T00:07:01.524524Z",
     "iopub.status.busy": "2023-05-31T00:07:01.524114Z",
     "iopub.status.idle": "2023-05-31T00:07:01.598825Z",
     "shell.execute_reply": "2023-05-31T00:07:01.597734Z"
    },
    "papermill": {
     "duration": 0.093072,
     "end_time": "2023-05-31T00:07:01.601464",
     "exception": false,
     "start_time": "2023-05-31T00:07:01.508392",
     "status": "completed"
    },
    "tags": []
   },
   "outputs": [
    {
     "data": {
      "text/html": [
       "<div>\n",
       "<style scoped>\n",
       "    .dataframe tbody tr th:only-of-type {\n",
       "        vertical-align: middle;\n",
       "    }\n",
       "\n",
       "    .dataframe tbody tr th {\n",
       "        vertical-align: top;\n",
       "    }\n",
       "\n",
       "    .dataframe thead th {\n",
       "        text-align: right;\n",
       "    }\n",
       "</style>\n",
       "<table border=\"1\" class=\"dataframe\">\n",
       "  <thead>\n",
       "    <tr style=\"text-align: right;\">\n",
       "      <th></th>\n",
       "      <th>Age</th>\n",
       "      <th>Sex</th>\n",
       "      <th>Job</th>\n",
       "      <th>Housing</th>\n",
       "      <th>Saving accounts</th>\n",
       "      <th>Checking account</th>\n",
       "      <th>Credit amount</th>\n",
       "      <th>Duration</th>\n",
       "      <th>Purpose</th>\n",
       "      <th>Risk</th>\n",
       "    </tr>\n",
       "  </thead>\n",
       "  <tbody>\n",
       "    <tr>\n",
       "      <th>0</th>\n",
       "      <td>67</td>\n",
       "      <td>male</td>\n",
       "      <td>2</td>\n",
       "      <td>own</td>\n",
       "      <td>NaN</td>\n",
       "      <td>little</td>\n",
       "      <td>1169</td>\n",
       "      <td>6</td>\n",
       "      <td>radio/TV</td>\n",
       "      <td>good</td>\n",
       "    </tr>\n",
       "    <tr>\n",
       "      <th>1</th>\n",
       "      <td>22</td>\n",
       "      <td>female</td>\n",
       "      <td>2</td>\n",
       "      <td>own</td>\n",
       "      <td>little</td>\n",
       "      <td>moderate</td>\n",
       "      <td>5951</td>\n",
       "      <td>48</td>\n",
       "      <td>radio/TV</td>\n",
       "      <td>bad</td>\n",
       "    </tr>\n",
       "    <tr>\n",
       "      <th>2</th>\n",
       "      <td>49</td>\n",
       "      <td>male</td>\n",
       "      <td>1</td>\n",
       "      <td>own</td>\n",
       "      <td>little</td>\n",
       "      <td>NaN</td>\n",
       "      <td>2096</td>\n",
       "      <td>12</td>\n",
       "      <td>education</td>\n",
       "      <td>good</td>\n",
       "    </tr>\n",
       "    <tr>\n",
       "      <th>3</th>\n",
       "      <td>45</td>\n",
       "      <td>male</td>\n",
       "      <td>2</td>\n",
       "      <td>free</td>\n",
       "      <td>little</td>\n",
       "      <td>little</td>\n",
       "      <td>7882</td>\n",
       "      <td>42</td>\n",
       "      <td>furniture/equipment</td>\n",
       "      <td>good</td>\n",
       "    </tr>\n",
       "    <tr>\n",
       "      <th>4</th>\n",
       "      <td>53</td>\n",
       "      <td>male</td>\n",
       "      <td>2</td>\n",
       "      <td>free</td>\n",
       "      <td>little</td>\n",
       "      <td>little</td>\n",
       "      <td>4870</td>\n",
       "      <td>24</td>\n",
       "      <td>car</td>\n",
       "      <td>bad</td>\n",
       "    </tr>\n",
       "  </tbody>\n",
       "</table>\n",
       "</div>"
      ],
      "text/plain": [
       "   Age     Sex  Job Housing Saving accounts Checking account  Credit amount  \\\n",
       "0   67    male    2     own             NaN           little           1169   \n",
       "1   22  female    2     own          little         moderate           5951   \n",
       "2   49    male    1     own          little              NaN           2096   \n",
       "3   45    male    2    free          little           little           7882   \n",
       "4   53    male    2    free          little           little           4870   \n",
       "\n",
       "   Duration              Purpose  Risk  \n",
       "0         6             radio/TV  good  \n",
       "1        48             radio/TV   bad  \n",
       "2        12            education  good  \n",
       "3        42  furniture/equipment  good  \n",
       "4        24                  car   bad  "
      ]
     },
     "execution_count": 32,
     "metadata": {},
     "output_type": "execute_result"
    }
   ],
   "source": [
    "df = pd.read_csv(\"german_credit_data.csv\", index_col=0)\n",
    "df.head()"
   ]
  },
  {
   "cell_type": "code",
   "execution_count": 33,
   "id": "5e32e1a3",
   "metadata": {
    "execution": {
     "iopub.execute_input": "2023-05-31T00:07:01.633576Z",
     "iopub.status.busy": "2023-05-31T00:07:01.632937Z",
     "iopub.status.idle": "2023-05-31T00:07:01.653856Z",
     "shell.execute_reply": "2023-05-31T00:07:01.65273Z"
    },
    "papermill": {
     "duration": 0.039823,
     "end_time": "2023-05-31T00:07:01.65644",
     "exception": false,
     "start_time": "2023-05-31T00:07:01.616617",
     "status": "completed"
    },
    "tags": []
   },
   "outputs": [
    {
     "name": "stdout",
     "output_type": "stream",
     "text": [
      "<class 'pandas.core.frame.DataFrame'>\n",
      "Int64Index: 1000 entries, 0 to 999\n",
      "Data columns (total 10 columns):\n",
      " #   Column            Non-Null Count  Dtype \n",
      "---  ------            --------------  ----- \n",
      " 0   Age               1000 non-null   int64 \n",
      " 1   Sex               1000 non-null   object\n",
      " 2   Job               1000 non-null   int64 \n",
      " 3   Housing           1000 non-null   object\n",
      " 4   Saving accounts   817 non-null    object\n",
      " 5   Checking account  606 non-null    object\n",
      " 6   Credit amount     1000 non-null   int64 \n",
      " 7   Duration          1000 non-null   int64 \n",
      " 8   Purpose           1000 non-null   object\n",
      " 9   Risk              1000 non-null   object\n",
      "dtypes: int64(4), object(6)\n",
      "memory usage: 85.9+ KB\n"
     ]
    }
   ],
   "source": [
    "df.info()"
   ]
  },
  {
   "cell_type": "code",
   "execution_count": 34,
   "id": "ef067e7b",
   "metadata": {
    "execution": {
     "iopub.execute_input": "2023-05-31T00:07:01.688115Z",
     "iopub.status.busy": "2023-05-31T00:07:01.687638Z",
     "iopub.status.idle": "2023-05-31T00:07:01.694239Z",
     "shell.execute_reply": "2023-05-31T00:07:01.693288Z"
    },
    "papermill": {
     "duration": 0.025188,
     "end_time": "2023-05-31T00:07:01.69654",
     "exception": false,
     "start_time": "2023-05-31T00:07:01.671352",
     "status": "completed"
    },
    "tags": []
   },
   "outputs": [
    {
     "data": {
      "text/plain": [
       "(1000, 10)"
      ]
     },
     "execution_count": 34,
     "metadata": {},
     "output_type": "execute_result"
    }
   ],
   "source": [
    "df.shape"
   ]
  },
  {
   "cell_type": "code",
   "execution_count": 35,
   "id": "ec745dfe",
   "metadata": {
    "execution": {
     "iopub.execute_input": "2023-05-31T00:07:01.729089Z",
     "iopub.status.busy": "2023-05-31T00:07:01.728631Z",
     "iopub.status.idle": "2023-05-31T00:07:01.739453Z",
     "shell.execute_reply": "2023-05-31T00:07:01.738611Z"
    },
    "papermill": {
     "duration": 0.029382,
     "end_time": "2023-05-31T00:07:01.741658",
     "exception": false,
     "start_time": "2023-05-31T00:07:01.712276",
     "status": "completed"
    },
    "tags": []
   },
   "outputs": [
    {
     "data": {
      "text/plain": [
       "Checking account    394\n",
       "Saving accounts     183\n",
       "Age                   0\n",
       "Sex                   0\n",
       "Job                   0\n",
       "Housing               0\n",
       "Credit amount         0\n",
       "Duration              0\n",
       "Purpose               0\n",
       "Risk                  0\n",
       "dtype: int64"
      ]
     },
     "execution_count": 35,
     "metadata": {},
     "output_type": "execute_result"
    }
   ],
   "source": [
    "df.isnull().sum().sort_values(ascending=False)"
   ]
  },
  {
   "cell_type": "code",
   "execution_count": 36,
   "id": "2c7e0ed8",
   "metadata": {
    "execution": {
     "iopub.execute_input": "2023-05-31T00:07:01.774213Z",
     "iopub.status.busy": "2023-05-31T00:07:01.7735Z",
     "iopub.status.idle": "2023-05-31T00:07:01.783603Z",
     "shell.execute_reply": "2023-05-31T00:07:01.782649Z"
    },
    "papermill": {
     "duration": 0.028764,
     "end_time": "2023-05-31T00:07:01.785892",
     "exception": false,
     "start_time": "2023-05-31T00:07:01.757128",
     "status": "completed"
    },
    "tags": []
   },
   "outputs": [
    {
     "data": {
      "text/plain": [
       "0"
      ]
     },
     "execution_count": 36,
     "metadata": {},
     "output_type": "execute_result"
    }
   ],
   "source": [
    "df.duplicated().sum()"
   ]
  },
  {
   "cell_type": "code",
   "execution_count": 37,
   "id": "484dc333",
   "metadata": {
    "execution": {
     "iopub.execute_input": "2023-05-31T00:07:01.818878Z",
     "iopub.status.busy": "2023-05-31T00:07:01.818264Z",
     "iopub.status.idle": "2023-05-31T00:07:01.829963Z",
     "shell.execute_reply": "2023-05-31T00:07:01.828467Z"
    },
    "papermill": {
     "duration": 0.030691,
     "end_time": "2023-05-31T00:07:01.83222",
     "exception": false,
     "start_time": "2023-05-31T00:07:01.801529",
     "status": "completed"
    },
    "tags": []
   },
   "outputs": [
    {
     "name": "stdout",
     "output_type": "stream",
     "text": [
      "Age (int64)\n",
      "[19 20 21 22 23 24 25 26 27 28]  ...  [62 63 64 65 66 67 68 70 74 75]\n",
      "\n",
      "\n",
      "Sex (object)\n",
      "['male' 'female']\n",
      "\n",
      "\n",
      "Job (int64)\n",
      "[0 1 2 3]\n",
      "\n",
      "\n",
      "Housing (object)\n",
      "['own' 'free' 'rent']\n",
      "\n",
      "\n",
      "Saving accounts (object)\n",
      "[nan 'little' 'quite rich' 'rich' 'moderate']\n",
      "\n",
      "\n",
      "Checking account (object)\n",
      "['little' 'moderate' nan 'rich']\n",
      "\n",
      "\n",
      "Credit amount (int64)\n",
      "[250 276 338 339 343 362 368 385 392 409]  ...  [14318 14421 14555 14782 14896 15653 15672 15857 15945 18424]\n",
      "\n",
      "\n",
      "Duration (int64)\n",
      "[ 4  5  6  7  8  9 10 11 12 13]  ...  [36 39 40 42 45 47 48 54 60 72]\n",
      "\n",
      "\n",
      "Purpose (object)\n",
      "['radio/TV' 'education' 'furniture/equipment' 'car' 'business'\n",
      " 'domestic appliances' 'repairs' 'vacation/others']\n",
      "\n",
      "\n",
      "Risk (object)\n",
      "['good' 'bad']\n",
      "\n",
      "\n"
     ]
    }
   ],
   "source": [
    "columns = df.columns.to_list()\n",
    "for col in columns:\n",
    "    unique_values = df[col].unique()\n",
    "    numeric = pd.api.types.is_numeric_dtype(df[col])\n",
    "    print(f\"{col} ({df[col].dtype})\")\n",
    "    \n",
    "    if numeric:\n",
    "        unique_values = np.sort(unique_values)\n",
    "        \n",
    "    if numeric and len(unique_values) > 20:\n",
    "        print(unique_values[:10], \" ... \", unique_values[-10:])\n",
    "    else:\n",
    "        print(unique_values)\n",
    "        \n",
    "    print(\"\\n\")"
   ]
  },
  {
   "cell_type": "code",
   "execution_count": 38,
   "id": "a6b17699",
   "metadata": {
    "execution": {
     "iopub.execute_input": "2023-05-31T00:07:01.866386Z",
     "iopub.status.busy": "2023-05-31T00:07:01.865474Z",
     "iopub.status.idle": "2023-05-31T00:07:01.873362Z",
     "shell.execute_reply": "2023-05-31T00:07:01.872273Z"
    },
    "papermill": {
     "duration": 0.027978,
     "end_time": "2023-05-31T00:07:01.875737",
     "exception": false,
     "start_time": "2023-05-31T00:07:01.847759",
     "status": "completed"
    },
    "tags": []
   },
   "outputs": [],
   "source": [
    "df[\"Saving accounts\"] = df[\"Saving accounts\"].fillna(\"none\")\n",
    "df[\"Checking account\"] = df[\"Checking account\"].fillna(\"none\")"
   ]
  },
  {
   "cell_type": "code",
   "execution_count": 39,
   "id": "7969d605",
   "metadata": {
    "execution": {
     "iopub.execute_input": "2023-05-31T00:07:01.908739Z",
     "iopub.status.busy": "2023-05-31T00:07:01.908074Z",
     "iopub.status.idle": "2023-05-31T00:07:01.914787Z",
     "shell.execute_reply": "2023-05-31T00:07:01.913968Z"
    },
    "papermill": {
     "duration": 0.02571,
     "end_time": "2023-05-31T00:07:01.916885",
     "exception": false,
     "start_time": "2023-05-31T00:07:01.891175",
     "status": "completed"
    },
    "tags": []
   },
   "outputs": [],
   "source": [
    "df[\"Job\"] = df[\"Job\"].map({\n",
    "    0: \"unskilled and non-resident\",\n",
    "    1: \"unskilled and resident\",\n",
    "    2: \"skilled\",\n",
    "    3: \"highly skilled\"\n",
    "})"
   ]
  },
  {
   "cell_type": "code",
   "execution_count": 40,
   "id": "1eb42435",
   "metadata": {},
   "outputs": [
    {
     "data": {
      "text/html": [
       "<div>\n",
       "<style scoped>\n",
       "    .dataframe tbody tr th:only-of-type {\n",
       "        vertical-align: middle;\n",
       "    }\n",
       "\n",
       "    .dataframe tbody tr th {\n",
       "        vertical-align: top;\n",
       "    }\n",
       "\n",
       "    .dataframe thead th {\n",
       "        text-align: right;\n",
       "    }\n",
       "</style>\n",
       "<table border=\"1\" class=\"dataframe\">\n",
       "  <thead>\n",
       "    <tr style=\"text-align: right;\">\n",
       "      <th></th>\n",
       "      <th>Age</th>\n",
       "      <th>Sex</th>\n",
       "      <th>Job</th>\n",
       "      <th>Housing</th>\n",
       "      <th>Saving accounts</th>\n",
       "      <th>Checking account</th>\n",
       "      <th>Credit amount</th>\n",
       "      <th>Duration</th>\n",
       "      <th>Purpose</th>\n",
       "      <th>Risk</th>\n",
       "    </tr>\n",
       "  </thead>\n",
       "  <tbody>\n",
       "    <tr>\n",
       "      <th>0</th>\n",
       "      <td>67</td>\n",
       "      <td>male</td>\n",
       "      <td>skilled</td>\n",
       "      <td>own</td>\n",
       "      <td>none</td>\n",
       "      <td>little</td>\n",
       "      <td>1169</td>\n",
       "      <td>6</td>\n",
       "      <td>radio/TV</td>\n",
       "      <td>good</td>\n",
       "    </tr>\n",
       "    <tr>\n",
       "      <th>1</th>\n",
       "      <td>22</td>\n",
       "      <td>female</td>\n",
       "      <td>skilled</td>\n",
       "      <td>own</td>\n",
       "      <td>little</td>\n",
       "      <td>moderate</td>\n",
       "      <td>5951</td>\n",
       "      <td>48</td>\n",
       "      <td>radio/TV</td>\n",
       "      <td>bad</td>\n",
       "    </tr>\n",
       "    <tr>\n",
       "      <th>2</th>\n",
       "      <td>49</td>\n",
       "      <td>male</td>\n",
       "      <td>unskilled and resident</td>\n",
       "      <td>own</td>\n",
       "      <td>little</td>\n",
       "      <td>none</td>\n",
       "      <td>2096</td>\n",
       "      <td>12</td>\n",
       "      <td>education</td>\n",
       "      <td>good</td>\n",
       "    </tr>\n",
       "    <tr>\n",
       "      <th>3</th>\n",
       "      <td>45</td>\n",
       "      <td>male</td>\n",
       "      <td>skilled</td>\n",
       "      <td>free</td>\n",
       "      <td>little</td>\n",
       "      <td>little</td>\n",
       "      <td>7882</td>\n",
       "      <td>42</td>\n",
       "      <td>furniture/equipment</td>\n",
       "      <td>good</td>\n",
       "    </tr>\n",
       "    <tr>\n",
       "      <th>4</th>\n",
       "      <td>53</td>\n",
       "      <td>male</td>\n",
       "      <td>skilled</td>\n",
       "      <td>free</td>\n",
       "      <td>little</td>\n",
       "      <td>little</td>\n",
       "      <td>4870</td>\n",
       "      <td>24</td>\n",
       "      <td>car</td>\n",
       "      <td>bad</td>\n",
       "    </tr>\n",
       "  </tbody>\n",
       "</table>\n",
       "</div>"
      ],
      "text/plain": [
       "   Age     Sex                     Job Housing Saving accounts  \\\n",
       "0   67    male                 skilled     own            none   \n",
       "1   22  female                 skilled     own          little   \n",
       "2   49    male  unskilled and resident     own          little   \n",
       "3   45    male                 skilled    free          little   \n",
       "4   53    male                 skilled    free          little   \n",
       "\n",
       "  Checking account  Credit amount  Duration              Purpose  Risk  \n",
       "0           little           1169         6             radio/TV  good  \n",
       "1         moderate           5951        48             radio/TV   bad  \n",
       "2             none           2096        12            education  good  \n",
       "3           little           7882        42  furniture/equipment  good  \n",
       "4           little           4870        24                  car   bad  "
      ]
     },
     "execution_count": 40,
     "metadata": {},
     "output_type": "execute_result"
    }
   ],
   "source": [
    "df.head()"
   ]
  },
  {
   "cell_type": "code",
   "execution_count": 41,
   "id": "7f9450e3",
   "metadata": {
    "execution": {
     "iopub.execute_input": "2023-05-31T00:07:01.949416Z",
     "iopub.status.busy": "2023-05-31T00:07:01.948801Z",
     "iopub.status.idle": "2023-05-31T00:07:01.955475Z",
     "shell.execute_reply": "2023-05-31T00:07:01.954738Z"
    },
    "papermill": {
     "duration": 0.025433,
     "end_time": "2023-05-31T00:07:01.957541",
     "exception": false,
     "start_time": "2023-05-31T00:07:01.932108",
     "status": "completed"
    },
    "tags": []
   },
   "outputs": [],
   "source": [
    "numeric_features = df.select_dtypes(include=[int, float]).columns.to_list()\n",
    "categorical_features = list(set(df.drop(\"Risk\", axis=1).columns) - set(numeric_features))"
   ]
  },
  {
   "cell_type": "markdown",
   "id": "05104945",
   "metadata": {
    "papermill": {
     "duration": 0.018377,
     "end_time": "2023-05-31T00:07:06.337954",
     "exception": false,
     "start_time": "2023-05-31T00:07:06.319577",
     "status": "completed"
    },
    "tags": []
   },
   "source": [
    "# Data Preprocessing and Feature Engineering"
   ]
  },
  {
   "cell_type": "code",
   "execution_count": 42,
   "id": "11a30018",
   "metadata": {
    "execution": {
     "iopub.execute_input": "2023-05-31T00:07:06.377415Z",
     "iopub.status.busy": "2023-05-31T00:07:06.377044Z",
     "iopub.status.idle": "2023-05-31T00:07:06.84437Z",
     "shell.execute_reply": "2023-05-31T00:07:06.84332Z"
    },
    "papermill": {
     "duration": 0.490473,
     "end_time": "2023-05-31T00:07:06.847064",
     "exception": false,
     "start_time": "2023-05-31T00:07:06.356591",
     "status": "completed"
    },
    "tags": []
   },
   "outputs": [
    {
     "data": {
      "text/html": [
       "<div>\n",
       "<style scoped>\n",
       "    .dataframe tbody tr th:only-of-type {\n",
       "        vertical-align: middle;\n",
       "    }\n",
       "\n",
       "    .dataframe tbody tr th {\n",
       "        vertical-align: top;\n",
       "    }\n",
       "\n",
       "    .dataframe thead th {\n",
       "        text-align: right;\n",
       "    }\n",
       "</style>\n",
       "<table border=\"1\" class=\"dataframe\">\n",
       "  <thead>\n",
       "    <tr style=\"text-align: right;\">\n",
       "      <th></th>\n",
       "      <th>Age</th>\n",
       "      <th>Sex</th>\n",
       "      <th>Job</th>\n",
       "      <th>Housing</th>\n",
       "      <th>Saving accounts</th>\n",
       "      <th>Checking account</th>\n",
       "      <th>Credit amount</th>\n",
       "      <th>Duration</th>\n",
       "      <th>Purpose</th>\n",
       "      <th>Risk</th>\n",
       "    </tr>\n",
       "  </thead>\n",
       "  <tbody>\n",
       "    <tr>\n",
       "      <th>0</th>\n",
       "      <td>67</td>\n",
       "      <td>male</td>\n",
       "      <td>skilled</td>\n",
       "      <td>own</td>\n",
       "      <td>none</td>\n",
       "      <td>little</td>\n",
       "      <td>1169</td>\n",
       "      <td>6</td>\n",
       "      <td>radio/TV</td>\n",
       "      <td>good</td>\n",
       "    </tr>\n",
       "    <tr>\n",
       "      <th>1</th>\n",
       "      <td>22</td>\n",
       "      <td>female</td>\n",
       "      <td>skilled</td>\n",
       "      <td>own</td>\n",
       "      <td>little</td>\n",
       "      <td>moderate</td>\n",
       "      <td>5951</td>\n",
       "      <td>48</td>\n",
       "      <td>radio/TV</td>\n",
       "      <td>bad</td>\n",
       "    </tr>\n",
       "    <tr>\n",
       "      <th>2</th>\n",
       "      <td>49</td>\n",
       "      <td>male</td>\n",
       "      <td>unskilled and resident</td>\n",
       "      <td>own</td>\n",
       "      <td>little</td>\n",
       "      <td>none</td>\n",
       "      <td>2096</td>\n",
       "      <td>12</td>\n",
       "      <td>education</td>\n",
       "      <td>good</td>\n",
       "    </tr>\n",
       "    <tr>\n",
       "      <th>3</th>\n",
       "      <td>45</td>\n",
       "      <td>male</td>\n",
       "      <td>skilled</td>\n",
       "      <td>free</td>\n",
       "      <td>little</td>\n",
       "      <td>little</td>\n",
       "      <td>7882</td>\n",
       "      <td>42</td>\n",
       "      <td>furniture/equipment</td>\n",
       "      <td>good</td>\n",
       "    </tr>\n",
       "    <tr>\n",
       "      <th>4</th>\n",
       "      <td>53</td>\n",
       "      <td>male</td>\n",
       "      <td>skilled</td>\n",
       "      <td>free</td>\n",
       "      <td>little</td>\n",
       "      <td>little</td>\n",
       "      <td>4870</td>\n",
       "      <td>24</td>\n",
       "      <td>car</td>\n",
       "      <td>bad</td>\n",
       "    </tr>\n",
       "    <tr>\n",
       "      <th>...</th>\n",
       "      <td>...</td>\n",
       "      <td>...</td>\n",
       "      <td>...</td>\n",
       "      <td>...</td>\n",
       "      <td>...</td>\n",
       "      <td>...</td>\n",
       "      <td>...</td>\n",
       "      <td>...</td>\n",
       "      <td>...</td>\n",
       "      <td>...</td>\n",
       "    </tr>\n",
       "    <tr>\n",
       "      <th>995</th>\n",
       "      <td>31</td>\n",
       "      <td>female</td>\n",
       "      <td>unskilled and resident</td>\n",
       "      <td>own</td>\n",
       "      <td>little</td>\n",
       "      <td>none</td>\n",
       "      <td>1736</td>\n",
       "      <td>12</td>\n",
       "      <td>furniture/equipment</td>\n",
       "      <td>good</td>\n",
       "    </tr>\n",
       "    <tr>\n",
       "      <th>996</th>\n",
       "      <td>40</td>\n",
       "      <td>male</td>\n",
       "      <td>highly skilled</td>\n",
       "      <td>own</td>\n",
       "      <td>little</td>\n",
       "      <td>little</td>\n",
       "      <td>3857</td>\n",
       "      <td>30</td>\n",
       "      <td>car</td>\n",
       "      <td>good</td>\n",
       "    </tr>\n",
       "    <tr>\n",
       "      <th>997</th>\n",
       "      <td>38</td>\n",
       "      <td>male</td>\n",
       "      <td>skilled</td>\n",
       "      <td>own</td>\n",
       "      <td>little</td>\n",
       "      <td>none</td>\n",
       "      <td>804</td>\n",
       "      <td>12</td>\n",
       "      <td>radio/TV</td>\n",
       "      <td>good</td>\n",
       "    </tr>\n",
       "    <tr>\n",
       "      <th>998</th>\n",
       "      <td>23</td>\n",
       "      <td>male</td>\n",
       "      <td>skilled</td>\n",
       "      <td>free</td>\n",
       "      <td>little</td>\n",
       "      <td>little</td>\n",
       "      <td>1845</td>\n",
       "      <td>45</td>\n",
       "      <td>radio/TV</td>\n",
       "      <td>bad</td>\n",
       "    </tr>\n",
       "    <tr>\n",
       "      <th>999</th>\n",
       "      <td>27</td>\n",
       "      <td>male</td>\n",
       "      <td>skilled</td>\n",
       "      <td>own</td>\n",
       "      <td>moderate</td>\n",
       "      <td>moderate</td>\n",
       "      <td>4576</td>\n",
       "      <td>45</td>\n",
       "      <td>car</td>\n",
       "      <td>good</td>\n",
       "    </tr>\n",
       "  </tbody>\n",
       "</table>\n",
       "<p>1000 rows × 10 columns</p>\n",
       "</div>"
      ],
      "text/plain": [
       "     Age     Sex                     Job Housing Saving accounts  \\\n",
       "0     67    male                 skilled     own            none   \n",
       "1     22  female                 skilled     own          little   \n",
       "2     49    male  unskilled and resident     own          little   \n",
       "3     45    male                 skilled    free          little   \n",
       "4     53    male                 skilled    free          little   \n",
       "..   ...     ...                     ...     ...             ...   \n",
       "995   31  female  unskilled and resident     own          little   \n",
       "996   40    male          highly skilled     own          little   \n",
       "997   38    male                 skilled     own          little   \n",
       "998   23    male                 skilled    free          little   \n",
       "999   27    male                 skilled     own        moderate   \n",
       "\n",
       "    Checking account  Credit amount  Duration              Purpose  Risk  \n",
       "0             little           1169         6             radio/TV  good  \n",
       "1           moderate           5951        48             radio/TV   bad  \n",
       "2               none           2096        12            education  good  \n",
       "3             little           7882        42  furniture/equipment  good  \n",
       "4             little           4870        24                  car   bad  \n",
       "..               ...            ...       ...                  ...   ...  \n",
       "995             none           1736        12  furniture/equipment  good  \n",
       "996           little           3857        30                  car  good  \n",
       "997             none            804        12             radio/TV  good  \n",
       "998           little           1845        45             radio/TV   bad  \n",
       "999         moderate           4576        45                  car  good  \n",
       "\n",
       "[1000 rows x 10 columns]"
      ]
     },
     "execution_count": 42,
     "metadata": {},
     "output_type": "execute_result"
    }
   ],
   "source": [
    "df"
   ]
  },
  {
   "cell_type": "code",
   "execution_count": 50,
   "id": "e6214e42",
   "metadata": {
    "execution": {
     "iopub.execute_input": "2023-05-31T00:07:06.892153Z",
     "iopub.status.busy": "2023-05-31T00:07:06.891052Z",
     "iopub.status.idle": "2023-05-31T00:07:06.898044Z",
     "shell.execute_reply": "2023-05-31T00:07:06.897004Z"
    },
    "papermill": {
     "duration": 0.029179,
     "end_time": "2023-05-31T00:07:06.90014",
     "exception": false,
     "start_time": "2023-05-31T00:07:06.870961",
     "status": "completed"
    },
    "tags": []
   },
   "outputs": [],
   "source": [
    "from sklearn.preprocessing import OrdinalEncoder, OneHotEncoder, LabelEncoder\n",
    "\n",
    "# Initialize encoders\n",
    "ordinal_encoder = OrdinalEncoder()\n",
    "onehot_encoder = OneHotEncoder(drop='first', sparse=False)  # Use drop='first' to avoid multicollinearity\n",
    "J_encoder = LabelEncoder()\n",
    "SA_encoder = LabelEncoder()\n",
    "CA_encoder = LabelEncoder()\n",
    "H_encoder = LabelEncoder()\n",
    "P_encoder = LabelEncoder()\n",
    "S_encoder = LabelEncoder()\n",
    "label_encoder = LabelEncoder()\n",
    "# Example of using encoders\n",
    "# Assuming df is your DataFrame\n",
    "\n",
    "# Ordinal encoding for 'Job' column\n",
    "df['Job'] = J_encoder.fit_transform(df[['Job']])\n",
    "\n",
    "\n",
    "\n",
    "# Label encoding for 'Risk' column\n",
    "df['Risk'] = label_encoder.fit_transform(df['Risk'])\n",
    "\n",
    "# Example of encoding other columns\n",
    "# Assuming df is your DataFrame\n",
    "\n",
    "# Ordinal encoding for 'Saving accounts' column\n",
    "df['Saving accounts'] = SA_encoder.fit_transform(df[['Saving accounts']])\n",
    "\n",
    "df['Checking account'] = CA_encoder.fit_transform(df[['Checking account']])\n",
    "df['Housing'] = H_encoder.fit_transform(df[['Housing']])\n",
    "df['Purpose'] = P_encoder.fit_transform(df[['Purpose']])\n",
    "\n",
    "# Label encoding for 'Sex' column\n",
    "df['Sex'] = S_encoder.fit_transform(df['Sex'])\n",
    "\n"
   ]
  },
  {
   "cell_type": "code",
   "execution_count": 51,
   "id": "2d727e11",
   "metadata": {},
   "outputs": [
    {
     "name": "stdout",
     "output_type": "stream",
     "text": [
      "Age (int64)\n",
      "[19 20 21 22 23 24 25 26 27 28]  ...  [62 63 64 65 66 67 68 70 74 75]\n",
      "\n",
      "\n",
      "Sex (int32)\n",
      "[0 1]\n",
      "\n",
      "\n",
      "Job (int64)\n",
      "[0 1 2 3]\n",
      "\n",
      "\n",
      "Housing (int32)\n",
      "[0 1 2]\n",
      "\n",
      "\n",
      "Saving accounts (int32)\n",
      "[0 1 2 3 4]\n",
      "\n",
      "\n",
      "Checking account (int32)\n",
      "[0 1 2 3]\n",
      "\n",
      "\n",
      "Credit amount (int64)\n",
      "[250 276 338 339 343 362 368 385 392 409]  ...  [14318 14421 14555 14782 14896 15653 15672 15857 15945 18424]\n",
      "\n",
      "\n",
      "Duration (int64)\n",
      "[ 4  5  6  7  8  9 10 11 12 13]  ...  [36 39 40 42 45 47 48 54 60 72]\n",
      "\n",
      "\n",
      "Purpose (int32)\n",
      "[0 1 2 3 4 5 6 7]\n",
      "\n",
      "\n",
      "Risk (int32)\n",
      "[0 1]\n",
      "\n",
      "\n"
     ]
    }
   ],
   "source": [
    "columns = df.columns.to_list()\n",
    "for col in columns:\n",
    "    unique_values = df[col].unique()\n",
    "    numeric = pd.api.types.is_numeric_dtype(df[col])\n",
    "    print(f\"{col} ({df[col].dtype})\")\n",
    "    \n",
    "    if numeric:\n",
    "        unique_values = np.sort(unique_values)\n",
    "        \n",
    "    if numeric and len(unique_values) > 20:\n",
    "        print(unique_values[:10], \" ... \", unique_values[-10:])\n",
    "    else:\n",
    "        print(unique_values)\n",
    "        \n",
    "    print(\"\\n\")"
   ]
  },
  {
   "cell_type": "code",
   "execution_count": 52,
   "id": "38374ff6",
   "metadata": {
    "execution": {
     "iopub.execute_input": "2023-05-31T00:07:06.940109Z",
     "iopub.status.busy": "2023-05-31T00:07:06.939447Z",
     "iopub.status.idle": "2023-05-31T00:07:06.94455Z",
     "shell.execute_reply": "2023-05-31T00:07:06.943525Z"
    },
    "papermill": {
     "duration": 0.02748,
     "end_time": "2023-05-31T00:07:06.946763",
     "exception": false,
     "start_time": "2023-05-31T00:07:06.919283",
     "status": "completed"
    },
    "scrolled": true,
    "tags": []
   },
   "outputs": [
    {
     "data": {
      "text/html": [
       "<div>\n",
       "<style scoped>\n",
       "    .dataframe tbody tr th:only-of-type {\n",
       "        vertical-align: middle;\n",
       "    }\n",
       "\n",
       "    .dataframe tbody tr th {\n",
       "        vertical-align: top;\n",
       "    }\n",
       "\n",
       "    .dataframe thead th {\n",
       "        text-align: right;\n",
       "    }\n",
       "</style>\n",
       "<table border=\"1\" class=\"dataframe\">\n",
       "  <thead>\n",
       "    <tr style=\"text-align: right;\">\n",
       "      <th></th>\n",
       "      <th>Age</th>\n",
       "      <th>Sex</th>\n",
       "      <th>Job</th>\n",
       "      <th>Housing</th>\n",
       "      <th>Saving accounts</th>\n",
       "      <th>Checking account</th>\n",
       "      <th>Credit amount</th>\n",
       "      <th>Duration</th>\n",
       "      <th>Purpose</th>\n",
       "      <th>Risk</th>\n",
       "    </tr>\n",
       "  </thead>\n",
       "  <tbody>\n",
       "    <tr>\n",
       "      <th>0</th>\n",
       "      <td>67</td>\n",
       "      <td>1</td>\n",
       "      <td>1</td>\n",
       "      <td>1</td>\n",
       "      <td>2</td>\n",
       "      <td>0</td>\n",
       "      <td>1169</td>\n",
       "      <td>6</td>\n",
       "      <td>5</td>\n",
       "      <td>1</td>\n",
       "    </tr>\n",
       "    <tr>\n",
       "      <th>1</th>\n",
       "      <td>22</td>\n",
       "      <td>0</td>\n",
       "      <td>1</td>\n",
       "      <td>1</td>\n",
       "      <td>0</td>\n",
       "      <td>1</td>\n",
       "      <td>5951</td>\n",
       "      <td>48</td>\n",
       "      <td>5</td>\n",
       "      <td>0</td>\n",
       "    </tr>\n",
       "    <tr>\n",
       "      <th>2</th>\n",
       "      <td>49</td>\n",
       "      <td>1</td>\n",
       "      <td>3</td>\n",
       "      <td>1</td>\n",
       "      <td>0</td>\n",
       "      <td>2</td>\n",
       "      <td>2096</td>\n",
       "      <td>12</td>\n",
       "      <td>3</td>\n",
       "      <td>1</td>\n",
       "    </tr>\n",
       "    <tr>\n",
       "      <th>3</th>\n",
       "      <td>45</td>\n",
       "      <td>1</td>\n",
       "      <td>1</td>\n",
       "      <td>0</td>\n",
       "      <td>0</td>\n",
       "      <td>0</td>\n",
       "      <td>7882</td>\n",
       "      <td>42</td>\n",
       "      <td>4</td>\n",
       "      <td>1</td>\n",
       "    </tr>\n",
       "    <tr>\n",
       "      <th>4</th>\n",
       "      <td>53</td>\n",
       "      <td>1</td>\n",
       "      <td>1</td>\n",
       "      <td>0</td>\n",
       "      <td>0</td>\n",
       "      <td>0</td>\n",
       "      <td>4870</td>\n",
       "      <td>24</td>\n",
       "      <td>1</td>\n",
       "      <td>0</td>\n",
       "    </tr>\n",
       "    <tr>\n",
       "      <th>...</th>\n",
       "      <td>...</td>\n",
       "      <td>...</td>\n",
       "      <td>...</td>\n",
       "      <td>...</td>\n",
       "      <td>...</td>\n",
       "      <td>...</td>\n",
       "      <td>...</td>\n",
       "      <td>...</td>\n",
       "      <td>...</td>\n",
       "      <td>...</td>\n",
       "    </tr>\n",
       "    <tr>\n",
       "      <th>995</th>\n",
       "      <td>31</td>\n",
       "      <td>0</td>\n",
       "      <td>3</td>\n",
       "      <td>1</td>\n",
       "      <td>0</td>\n",
       "      <td>2</td>\n",
       "      <td>1736</td>\n",
       "      <td>12</td>\n",
       "      <td>4</td>\n",
       "      <td>1</td>\n",
       "    </tr>\n",
       "    <tr>\n",
       "      <th>996</th>\n",
       "      <td>40</td>\n",
       "      <td>1</td>\n",
       "      <td>0</td>\n",
       "      <td>1</td>\n",
       "      <td>0</td>\n",
       "      <td>0</td>\n",
       "      <td>3857</td>\n",
       "      <td>30</td>\n",
       "      <td>1</td>\n",
       "      <td>1</td>\n",
       "    </tr>\n",
       "    <tr>\n",
       "      <th>997</th>\n",
       "      <td>38</td>\n",
       "      <td>1</td>\n",
       "      <td>1</td>\n",
       "      <td>1</td>\n",
       "      <td>0</td>\n",
       "      <td>2</td>\n",
       "      <td>804</td>\n",
       "      <td>12</td>\n",
       "      <td>5</td>\n",
       "      <td>1</td>\n",
       "    </tr>\n",
       "    <tr>\n",
       "      <th>998</th>\n",
       "      <td>23</td>\n",
       "      <td>1</td>\n",
       "      <td>1</td>\n",
       "      <td>0</td>\n",
       "      <td>0</td>\n",
       "      <td>0</td>\n",
       "      <td>1845</td>\n",
       "      <td>45</td>\n",
       "      <td>5</td>\n",
       "      <td>0</td>\n",
       "    </tr>\n",
       "    <tr>\n",
       "      <th>999</th>\n",
       "      <td>27</td>\n",
       "      <td>1</td>\n",
       "      <td>1</td>\n",
       "      <td>1</td>\n",
       "      <td>1</td>\n",
       "      <td>1</td>\n",
       "      <td>4576</td>\n",
       "      <td>45</td>\n",
       "      <td>1</td>\n",
       "      <td>1</td>\n",
       "    </tr>\n",
       "  </tbody>\n",
       "</table>\n",
       "<p>1000 rows × 10 columns</p>\n",
       "</div>"
      ],
      "text/plain": [
       "     Age  Sex  Job  Housing  Saving accounts  Checking account  Credit amount  \\\n",
       "0     67    1    1        1                2                 0           1169   \n",
       "1     22    0    1        1                0                 1           5951   \n",
       "2     49    1    3        1                0                 2           2096   \n",
       "3     45    1    1        0                0                 0           7882   \n",
       "4     53    1    1        0                0                 0           4870   \n",
       "..   ...  ...  ...      ...              ...               ...            ...   \n",
       "995   31    0    3        1                0                 2           1736   \n",
       "996   40    1    0        1                0                 0           3857   \n",
       "997   38    1    1        1                0                 2            804   \n",
       "998   23    1    1        0                0                 0           1845   \n",
       "999   27    1    1        1                1                 1           4576   \n",
       "\n",
       "     Duration  Purpose  Risk  \n",
       "0           6        5     1  \n",
       "1          48        5     0  \n",
       "2          12        3     1  \n",
       "3          42        4     1  \n",
       "4          24        1     0  \n",
       "..        ...      ...   ...  \n",
       "995        12        4     1  \n",
       "996        30        1     1  \n",
       "997        12        5     1  \n",
       "998        45        5     0  \n",
       "999        45        1     1  \n",
       "\n",
       "[1000 rows x 10 columns]"
      ]
     },
     "execution_count": 52,
     "metadata": {},
     "output_type": "execute_result"
    }
   ],
   "source": [
    "df"
   ]
  },
  {
   "cell_type": "code",
   "execution_count": 53,
   "id": "5af3a63a",
   "metadata": {},
   "outputs": [
    {
     "name": "stdout",
     "output_type": "stream",
     "text": [
      "X_train: (800, 9)\n",
      "X_test: (200, 9)\n"
     ]
    }
   ],
   "source": [
    "from sklearn.model_selection import train_test_split\n",
    "\n",
    "X = df.drop(\"Risk\", axis=1)\n",
    "y = df[\"Risk\"]\n",
    "\n",
    "X_train, X_test, y_train, y_test = train_test_split(X, y, test_size=0.2, random_state=42)\n",
    "print(f\"X_train: {X_train.shape}\\nX_test: {X_test.shape}\")"
   ]
  },
  {
   "cell_type": "code",
   "execution_count": 54,
   "id": "fcd1e180",
   "metadata": {
    "scrolled": true
   },
   "outputs": [
    {
     "data": {
      "text/plain": [
       "0      1\n",
       "1      0\n",
       "2      1\n",
       "3      1\n",
       "4      0\n",
       "      ..\n",
       "995    1\n",
       "996    1\n",
       "997    1\n",
       "998    0\n",
       "999    1\n",
       "Name: Risk, Length: 1000, dtype: int32"
      ]
     },
     "execution_count": 54,
     "metadata": {},
     "output_type": "execute_result"
    }
   ],
   "source": [
    "y"
   ]
  },
  {
   "cell_type": "markdown",
   "id": "ad1d66fd",
   "metadata": {
    "papermill": {
     "duration": 0.02757,
     "end_time": "2023-05-31T00:07:10.854838",
     "exception": false,
     "start_time": "2023-05-31T00:07:10.827268",
     "status": "completed"
    },
    "tags": []
   },
   "source": [
    "## Modeling"
   ]
  },
  {
   "cell_type": "raw",
   "id": "445cf015",
   "metadata": {},
   "source": [
    "Random Forest"
   ]
  },
  {
   "cell_type": "code",
   "execution_count": 55,
   "id": "3b08b2d6",
   "metadata": {
    "execution": {
     "iopub.execute_input": "2023-05-31T00:07:10.984946Z",
     "iopub.status.busy": "2023-05-31T00:07:10.984429Z",
     "iopub.status.idle": "2023-05-31T00:07:17.80943Z",
     "shell.execute_reply": "2023-05-31T00:07:17.808113Z"
    },
    "papermill": {
     "duration": 6.857478,
     "end_time": "2023-05-31T00:07:17.811991",
     "exception": false,
     "start_time": "2023-05-31T00:07:10.954513",
     "status": "completed"
    },
    "tags": []
   },
   "outputs": [
    {
     "name": "stdout",
     "output_type": "stream",
     "text": [
      "The Random Forest classifier has an accuracy of 76.0% and f1 score of 0.8431\n"
     ]
    }
   ],
   "source": [
    "from sklearn.ensemble import RandomForestClassifier\n",
    "from sklearn.metrics import accuracy_score\n",
    "from sklearn.metrics import f1_score\n",
    "\n",
    "random_forest = RandomForestClassifier()\n",
    "random_forest.fit(X_train, y_train)\n",
    "random_prediction = random_forest.predict(X_test)\n",
    "random_acc = round((accuracy_score(y_test, random_prediction) * 100), 2)\n",
    "random_f1 = round((f1_score(y_test, random_prediction)), 4)\n",
    "print(f'The Random Forest classifier has an accuracy of {random_acc}% and f1 score of {random_f1}')"
   ]
  },
  {
   "cell_type": "code",
   "execution_count": 56,
   "id": "051bf8c6",
   "metadata": {
    "execution": {
     "iopub.execute_input": "2023-05-31T00:07:17.871955Z",
     "iopub.status.busy": "2023-05-31T00:07:17.871169Z",
     "iopub.status.idle": "2023-05-31T00:07:18.304805Z",
     "shell.execute_reply": "2023-05-31T00:07:18.303453Z"
    },
    "papermill": {
     "duration": 0.46683,
     "end_time": "2023-05-31T00:07:18.30746",
     "exception": false,
     "start_time": "2023-05-31T00:07:17.84063",
     "status": "completed"
    },
    "tags": []
   },
   "outputs": [
    {
     "name": "stdout",
     "output_type": "stream",
     "text": [
      "Feature: 0, Score: 0.18567\n",
      "Feature: 1, Score: 0.03003\n",
      "Feature: 2, Score: 0.05410\n",
      "Feature: 3, Score: 0.04478\n",
      "Feature: 4, Score: 0.07489\n",
      "Feature: 5, Score: 0.12404\n",
      "Feature: 6, Score: 0.24297\n",
      "Feature: 7, Score: 0.14924\n",
      "Feature: 8, Score: 0.09428\n"
     ]
    }
   ],
   "source": [
    "from matplotlib import pyplot\n",
    "importance = random_forest.feature_importances_\n",
    "# summarize feature importance\n",
    "for i,v in enumerate(importance):\n",
    "\tprint('Feature: %0d, Score: %.5f' % (i,v))"
   ]
  },
  {
   "cell_type": "raw",
   "id": "3127fafb",
   "metadata": {},
   "source": [
    "Gradient Boost"
   ]
  },
  {
   "cell_type": "code",
   "execution_count": 58,
   "id": "4cde2b0f",
   "metadata": {
    "execution": {
     "iopub.execute_input": "2023-05-31T00:07:18.425352Z",
     "iopub.status.busy": "2023-05-31T00:07:18.42496Z",
     "iopub.status.idle": "2023-05-31T00:07:18.436891Z",
     "shell.execute_reply": "2023-05-31T00:07:18.43564Z"
    },
    "papermill": {
     "duration": 0.044826,
     "end_time": "2023-05-31T00:07:18.439326",
     "exception": false,
     "start_time": "2023-05-31T00:07:18.3945",
     "status": "completed"
    },
    "tags": []
   },
   "outputs": [
    {
     "name": "stdout",
     "output_type": "stream",
     "text": [
      "gradient boost has an accuracy of 75.0% and f1 score of 0.8366\n",
      "Feature: 0, Score: 0.18567\n",
      "Feature: 1, Score: 0.03003\n",
      "Feature: 2, Score: 0.05410\n",
      "Feature: 3, Score: 0.04478\n",
      "Feature: 4, Score: 0.07489\n",
      "Feature: 5, Score: 0.12404\n",
      "Feature: 6, Score: 0.24297\n",
      "Feature: 7, Score: 0.14924\n",
      "Feature: 8, Score: 0.09428\n"
     ]
    }
   ],
   "source": [
    "from sklearn.ensemble import GradientBoostingClassifier\n",
    "from sklearn.metrics import accuracy_score\n",
    "from sklearn.metrics import f1_score\n",
    "gradient_boost = GradientBoostingClassifier()\n",
    "gradient_boost.fit(X_train, y_train)\n",
    "gradient_pred = gradient_boost.predict(X_test)\n",
    "gradient_acc = round((accuracy_score(y_test, gradient_pred)*100), 2)\n",
    "gradient_f1 = round((f1_score(y_test, gradient_pred)), 4)\n",
    "\n",
    "print(f'gradient boost has an accuracy of {gradient_acc}% and f1 score of {gradient_f1}')\n",
    "\n",
    "from matplotlib import pyplot\n",
    "importance = random_forest.feature_importances_\n",
    "# summarize feature importance\n",
    "for i,v in enumerate(importance):\n",
    "\tprint('Feature: %0d, Score: %.5f' % (i,v))"
   ]
  },
  {
   "cell_type": "raw",
   "id": "b1c33de9",
   "metadata": {},
   "source": [
    "SVM"
   ]
  },
  {
   "cell_type": "code",
   "execution_count": 59,
   "id": "e90e0d6f",
   "metadata": {},
   "outputs": [
    {
     "name": "stdout",
     "output_type": "stream",
     "text": [
      "The Random Forest classifier has an accuracy of 76.0% and f1 score of 0.8431\n",
      "Feature: 0, Score: 0.18567\n",
      "Feature: 1, Score: 0.03003\n",
      "Feature: 2, Score: 0.05410\n",
      "Feature: 3, Score: 0.04478\n",
      "Feature: 4, Score: 0.07489\n",
      "Feature: 5, Score: 0.12404\n",
      "Feature: 6, Score: 0.24297\n",
      "Feature: 7, Score: 0.14924\n",
      "Feature: 8, Score: 0.09428\n"
     ]
    }
   ],
   "source": [
    "from sklearn.svm import SVC\n",
    "from sklearn.metrics import accuracy_score\n",
    "from sklearn.metrics import f1_score\n",
    "svm_model = SVC()\n",
    "svm_model.fit(X_train, y_train)\n",
    "svm_prediction = svm_model.predict(X_test)\n",
    "svm_acc = round((accuracy_score(y_test, svm_prediction)* 100), 2)\n",
    "svm_f1 = round((f1_score(y_test, svm_prediction)), 4)\n",
    "print(f'The Random Forest classifier has an accuracy of {random_acc}% and f1 score of {random_f1}')\n",
    "from matplotlib import pyplot\n",
    "importance = random_forest.feature_importances_\n",
    "# summarize feature importance\n",
    "for i,v in enumerate(importance):\n",
    "\tprint('Feature: %0d, Score: %.5f' % (i,v))"
   ]
  },
  {
   "cell_type": "raw",
   "id": "69357e55",
   "metadata": {},
   "source": [
    "Naive bayes"
   ]
  },
  {
   "cell_type": "code",
   "execution_count": 60,
   "id": "9a4cb7be",
   "metadata": {
    "execution": {
     "iopub.execute_input": "2023-05-31T00:07:19.497315Z",
     "iopub.status.busy": "2023-05-31T00:07:19.49672Z",
     "iopub.status.idle": "2023-05-31T00:07:53.252351Z",
     "shell.execute_reply": "2023-05-31T00:07:53.251161Z"
    },
    "papermill": {
     "duration": 33.789476,
     "end_time": "2023-05-31T00:07:53.254592",
     "exception": false,
     "start_time": "2023-05-31T00:07:19.465116",
     "status": "completed"
    },
    "tags": []
   },
   "outputs": [
    {
     "name": "stdout",
     "output_type": "stream",
     "text": [
      "accuracy score:  72.0\n",
      "f1_score:  0.8133\n",
      "Feature: 0, Score: 0.18567\n",
      "Feature: 1, Score: 0.03003\n",
      "Feature: 2, Score: 0.05410\n",
      "Feature: 3, Score: 0.04478\n",
      "Feature: 4, Score: 0.07489\n",
      "Feature: 5, Score: 0.12404\n",
      "Feature: 6, Score: 0.24297\n",
      "Feature: 7, Score: 0.14924\n",
      "Feature: 8, Score: 0.09428\n"
     ]
    }
   ],
   "source": [
    "from sklearn.naive_bayes import GaussianNB\n",
    "from sklearn.metrics import accuracy_score\n",
    "from sklearn.metrics import f1_score\n",
    "naive_model = GaussianNB()\n",
    "naive_model.fit(X_train, y_train)\n",
    "naive_prediction = naive_model.predict(X_test)\n",
    "naive_acc = round((accuracy_score(y_test, naive_prediction)*100), 2)\n",
    "naive_f1 = round((f1_score(y_test, naive_prediction)), 4)\n",
    "print('accuracy score: ', naive_acc)\n",
    "print('f1_score: ', naive_f1)\n",
    "from matplotlib import pyplot\n",
    "importance = random_forest.feature_importances_\n",
    "# summarize feature importance\n",
    "for i,v in enumerate(importance):\n",
    "\tprint('Feature: %0d, Score: %.5f' % (i,v))"
   ]
  },
  {
   "cell_type": "code",
   "execution_count": 61,
   "id": "47fac306",
   "metadata": {},
   "outputs": [
    {
     "data": {
      "text/plain": [
       "Index(['Age', 'Sex', 'Job', 'Housing', 'Saving accounts', 'Checking account',\n",
       "       'Credit amount', 'Duration', 'Purpose'],\n",
       "      dtype='object')"
      ]
     },
     "execution_count": 61,
     "metadata": {},
     "output_type": "execute_result"
    }
   ],
   "source": [
    "X_test.columns"
   ]
  },
  {
   "cell_type": "code",
   "execution_count": null,
   "id": "673babf6",
   "metadata": {
    "scrolled": true
   },
   "outputs": [],
   "source": [
    "X"
   ]
  },
  {
   "cell_type": "code",
   "execution_count": 64,
   "id": "fde95c21",
   "metadata": {},
   "outputs": [
    {
     "data": {
      "text/plain": [
       "array([['56', 'male', '0', 'rent', 'little', 'moderate', '5951', '48',\n",
       "        'radio/TV']], dtype='<U8')"
      ]
     },
     "execution_count": 64,
     "metadata": {},
     "output_type": "execute_result"
    }
   ],
   "source": [
    "X=np.array([['56', 'male', '0', 'rent', 'little', 'moderate',\n",
    "       '5951', '48', 'radio/TV']])\n",
    "X"
   ]
  },
  {
   "cell_type": "code",
   "execution_count": 63,
   "id": "e086bd71",
   "metadata": {},
   "outputs": [
    {
     "ename": "ValueError",
     "evalue": "invalid literal for int() with base 10: 'skilled'",
     "output_type": "error",
     "traceback": [
      "\u001b[1;31m---------------------------------------------------------------------------\u001b[0m",
      "\u001b[1;31mValueError\u001b[0m                                Traceback (most recent call last)",
      "Cell \u001b[1;32mIn[63], line 2\u001b[0m\n\u001b[0;32m      1\u001b[0m X[:, \u001b[38;5;241m1\u001b[39m] \u001b[38;5;241m=\u001b[39m S_encoder\u001b[38;5;241m.\u001b[39mtransform(X[:, \u001b[38;5;241m1\u001b[39m])\n\u001b[1;32m----> 2\u001b[0m X[:, \u001b[38;5;241m2\u001b[39m] \u001b[38;5;241m=\u001b[39m \u001b[43mJ_encoder\u001b[49m\u001b[38;5;241;43m.\u001b[39;49m\u001b[43mtransform\u001b[49m\u001b[43m(\u001b[49m\u001b[43mX\u001b[49m\u001b[43m[\u001b[49m\u001b[43m:\u001b[49m\u001b[43m,\u001b[49m\u001b[43m \u001b[49m\u001b[38;5;241;43m2\u001b[39;49m\u001b[43m]\u001b[49m\u001b[43m)\u001b[49m\n\u001b[0;32m      3\u001b[0m X[:, \u001b[38;5;241m3\u001b[39m] \u001b[38;5;241m=\u001b[39m H_encoder\u001b[38;5;241m.\u001b[39mtransform(X[:, \u001b[38;5;241m3\u001b[39m])  \u001b[38;5;66;03m# Reshape for compatibility\u001b[39;00m\n\u001b[0;32m      4\u001b[0m X[:, \u001b[38;5;241m4\u001b[39m] \u001b[38;5;241m=\u001b[39m SA_encoder\u001b[38;5;241m.\u001b[39mtransform(X[:, \u001b[38;5;241m4\u001b[39m])  \u001b[38;5;66;03m# Reshape for compatibility\u001b[39;00m\n",
      "File \u001b[1;32m~\\anaconda3\\lib\\site-packages\\sklearn\\utils\\_set_output.py:142\u001b[0m, in \u001b[0;36m_wrap_method_output.<locals>.wrapped\u001b[1;34m(self, X, *args, **kwargs)\u001b[0m\n\u001b[0;32m    140\u001b[0m \u001b[38;5;129m@wraps\u001b[39m(f)\n\u001b[0;32m    141\u001b[0m \u001b[38;5;28;01mdef\u001b[39;00m \u001b[38;5;21mwrapped\u001b[39m(\u001b[38;5;28mself\u001b[39m, X, \u001b[38;5;241m*\u001b[39margs, \u001b[38;5;241m*\u001b[39m\u001b[38;5;241m*\u001b[39mkwargs):\n\u001b[1;32m--> 142\u001b[0m     data_to_wrap \u001b[38;5;241m=\u001b[39m f(\u001b[38;5;28mself\u001b[39m, X, \u001b[38;5;241m*\u001b[39margs, \u001b[38;5;241m*\u001b[39m\u001b[38;5;241m*\u001b[39mkwargs)\n\u001b[0;32m    143\u001b[0m     \u001b[38;5;28;01mif\u001b[39;00m \u001b[38;5;28misinstance\u001b[39m(data_to_wrap, \u001b[38;5;28mtuple\u001b[39m):\n\u001b[0;32m    144\u001b[0m         \u001b[38;5;66;03m# only wrap the first output for cross decomposition\u001b[39;00m\n\u001b[0;32m    145\u001b[0m         \u001b[38;5;28;01mreturn\u001b[39;00m (\n\u001b[0;32m    146\u001b[0m             _wrap_data_with_container(method, data_to_wrap[\u001b[38;5;241m0\u001b[39m], X, \u001b[38;5;28mself\u001b[39m),\n\u001b[0;32m    147\u001b[0m             \u001b[38;5;241m*\u001b[39mdata_to_wrap[\u001b[38;5;241m1\u001b[39m:],\n\u001b[0;32m    148\u001b[0m         )\n",
      "File \u001b[1;32m~\\anaconda3\\lib\\site-packages\\sklearn\\preprocessing\\_label.py:134\u001b[0m, in \u001b[0;36mLabelEncoder.transform\u001b[1;34m(self, y)\u001b[0m\n\u001b[0;32m    121\u001b[0m \u001b[38;5;124;03m\"\"\"Transform labels to normalized encoding.\u001b[39;00m\n\u001b[0;32m    122\u001b[0m \n\u001b[0;32m    123\u001b[0m \u001b[38;5;124;03mParameters\u001b[39;00m\n\u001b[1;32m   (...)\u001b[0m\n\u001b[0;32m    131\u001b[0m \u001b[38;5;124;03m    Labels as normalized encodings.\u001b[39;00m\n\u001b[0;32m    132\u001b[0m \u001b[38;5;124;03m\"\"\"\u001b[39;00m\n\u001b[0;32m    133\u001b[0m check_is_fitted(\u001b[38;5;28mself\u001b[39m)\n\u001b[1;32m--> 134\u001b[0m y \u001b[38;5;241m=\u001b[39m \u001b[43mcolumn_or_1d\u001b[49m\u001b[43m(\u001b[49m\u001b[43my\u001b[49m\u001b[43m,\u001b[49m\u001b[43m \u001b[49m\u001b[43mdtype\u001b[49m\u001b[38;5;241;43m=\u001b[39;49m\u001b[38;5;28;43mself\u001b[39;49m\u001b[38;5;241;43m.\u001b[39;49m\u001b[43mclasses_\u001b[49m\u001b[38;5;241;43m.\u001b[39;49m\u001b[43mdtype\u001b[49m\u001b[43m,\u001b[49m\u001b[43m \u001b[49m\u001b[43mwarn\u001b[49m\u001b[38;5;241;43m=\u001b[39;49m\u001b[38;5;28;43;01mTrue\u001b[39;49;00m\u001b[43m)\u001b[49m\n\u001b[0;32m    135\u001b[0m \u001b[38;5;66;03m# transform of empty array is empty array\u001b[39;00m\n\u001b[0;32m    136\u001b[0m \u001b[38;5;28;01mif\u001b[39;00m _num_samples(y) \u001b[38;5;241m==\u001b[39m \u001b[38;5;241m0\u001b[39m:\n",
      "File \u001b[1;32m~\\anaconda3\\lib\\site-packages\\sklearn\\utils\\validation.py:1179\u001b[0m, in \u001b[0;36mcolumn_or_1d\u001b[1;34m(y, dtype, warn)\u001b[0m\n\u001b[0;32m   1153\u001b[0m \u001b[38;5;124;03m\"\"\"Ravel column or 1d numpy array, else raises an error.\u001b[39;00m\n\u001b[0;32m   1154\u001b[0m \n\u001b[0;32m   1155\u001b[0m \u001b[38;5;124;03mParameters\u001b[39;00m\n\u001b[1;32m   (...)\u001b[0m\n\u001b[0;32m   1176\u001b[0m \u001b[38;5;124;03m    If `y` is not a 1D array or a 2D array with a single row or column.\u001b[39;00m\n\u001b[0;32m   1177\u001b[0m \u001b[38;5;124;03m\"\"\"\u001b[39;00m\n\u001b[0;32m   1178\u001b[0m xp, _ \u001b[38;5;241m=\u001b[39m get_namespace(y)\n\u001b[1;32m-> 1179\u001b[0m y \u001b[38;5;241m=\u001b[39m \u001b[43mcheck_array\u001b[49m\u001b[43m(\u001b[49m\n\u001b[0;32m   1180\u001b[0m \u001b[43m    \u001b[49m\u001b[43my\u001b[49m\u001b[43m,\u001b[49m\n\u001b[0;32m   1181\u001b[0m \u001b[43m    \u001b[49m\u001b[43mensure_2d\u001b[49m\u001b[38;5;241;43m=\u001b[39;49m\u001b[38;5;28;43;01mFalse\u001b[39;49;00m\u001b[43m,\u001b[49m\n\u001b[0;32m   1182\u001b[0m \u001b[43m    \u001b[49m\u001b[43mdtype\u001b[49m\u001b[38;5;241;43m=\u001b[39;49m\u001b[43mdtype\u001b[49m\u001b[43m,\u001b[49m\n\u001b[0;32m   1183\u001b[0m \u001b[43m    \u001b[49m\u001b[43minput_name\u001b[49m\u001b[38;5;241;43m=\u001b[39;49m\u001b[38;5;124;43m\"\u001b[39;49m\u001b[38;5;124;43my\u001b[39;49m\u001b[38;5;124;43m\"\u001b[39;49m\u001b[43m,\u001b[49m\n\u001b[0;32m   1184\u001b[0m \u001b[43m    \u001b[49m\u001b[43mforce_all_finite\u001b[49m\u001b[38;5;241;43m=\u001b[39;49m\u001b[38;5;28;43;01mFalse\u001b[39;49;00m\u001b[43m,\u001b[49m\n\u001b[0;32m   1185\u001b[0m \u001b[43m    \u001b[49m\u001b[43mensure_min_samples\u001b[49m\u001b[38;5;241;43m=\u001b[39;49m\u001b[38;5;241;43m0\u001b[39;49m\u001b[43m,\u001b[49m\n\u001b[0;32m   1186\u001b[0m \u001b[43m\u001b[49m\u001b[43m)\u001b[49m\n\u001b[0;32m   1188\u001b[0m shape \u001b[38;5;241m=\u001b[39m y\u001b[38;5;241m.\u001b[39mshape\n\u001b[0;32m   1189\u001b[0m \u001b[38;5;28;01mif\u001b[39;00m \u001b[38;5;28mlen\u001b[39m(shape) \u001b[38;5;241m==\u001b[39m \u001b[38;5;241m1\u001b[39m:\n",
      "File \u001b[1;32m~\\anaconda3\\lib\\site-packages\\sklearn\\utils\\validation.py:877\u001b[0m, in \u001b[0;36mcheck_array\u001b[1;34m(array, accept_sparse, accept_large_sparse, dtype, order, copy, force_all_finite, ensure_2d, allow_nd, ensure_min_samples, ensure_min_features, estimator, input_name)\u001b[0m\n\u001b[0;32m    869\u001b[0m     \u001b[38;5;28;01mif\u001b[39;00m array\u001b[38;5;241m.\u001b[39mdtype\u001b[38;5;241m.\u001b[39mkind \u001b[38;5;241m==\u001b[39m \u001b[38;5;124m\"\u001b[39m\u001b[38;5;124mf\u001b[39m\u001b[38;5;124m\"\u001b[39m:\n\u001b[0;32m    870\u001b[0m         _assert_all_finite(\n\u001b[0;32m    871\u001b[0m             array,\n\u001b[0;32m    872\u001b[0m             allow_nan\u001b[38;5;241m=\u001b[39m\u001b[38;5;28;01mFalse\u001b[39;00m,\n\u001b[1;32m   (...)\u001b[0m\n\u001b[0;32m    875\u001b[0m             input_name\u001b[38;5;241m=\u001b[39minput_name,\n\u001b[0;32m    876\u001b[0m         )\n\u001b[1;32m--> 877\u001b[0m     array \u001b[38;5;241m=\u001b[39m \u001b[43mxp\u001b[49m\u001b[38;5;241;43m.\u001b[39;49m\u001b[43mastype\u001b[49m\u001b[43m(\u001b[49m\u001b[43marray\u001b[49m\u001b[43m,\u001b[49m\u001b[43m \u001b[49m\u001b[43mdtype\u001b[49m\u001b[43m,\u001b[49m\u001b[43m \u001b[49m\u001b[43mcopy\u001b[49m\u001b[38;5;241;43m=\u001b[39;49m\u001b[38;5;28;43;01mFalse\u001b[39;49;00m\u001b[43m)\u001b[49m\n\u001b[0;32m    878\u001b[0m \u001b[38;5;28;01melse\u001b[39;00m:\n\u001b[0;32m    879\u001b[0m     array \u001b[38;5;241m=\u001b[39m _asarray_with_order(array, order\u001b[38;5;241m=\u001b[39morder, dtype\u001b[38;5;241m=\u001b[39mdtype, xp\u001b[38;5;241m=\u001b[39mxp)\n",
      "File \u001b[1;32m~\\anaconda3\\lib\\site-packages\\sklearn\\utils\\_array_api.py:68\u001b[0m, in \u001b[0;36m_NumPyApiWrapper.astype\u001b[1;34m(self, x, dtype, copy, casting)\u001b[0m\n\u001b[0;32m     66\u001b[0m \u001b[38;5;28;01mdef\u001b[39;00m \u001b[38;5;21mastype\u001b[39m(\u001b[38;5;28mself\u001b[39m, x, dtype, \u001b[38;5;241m*\u001b[39m, copy\u001b[38;5;241m=\u001b[39m\u001b[38;5;28;01mTrue\u001b[39;00m, casting\u001b[38;5;241m=\u001b[39m\u001b[38;5;124m\"\u001b[39m\u001b[38;5;124munsafe\u001b[39m\u001b[38;5;124m\"\u001b[39m):\n\u001b[0;32m     67\u001b[0m     \u001b[38;5;66;03m# astype is not defined in the top level NumPy namespace\u001b[39;00m\n\u001b[1;32m---> 68\u001b[0m     \u001b[38;5;28;01mreturn\u001b[39;00m \u001b[43mx\u001b[49m\u001b[38;5;241;43m.\u001b[39;49m\u001b[43mastype\u001b[49m\u001b[43m(\u001b[49m\u001b[43mdtype\u001b[49m\u001b[43m,\u001b[49m\u001b[43m \u001b[49m\u001b[43mcopy\u001b[49m\u001b[38;5;241;43m=\u001b[39;49m\u001b[43mcopy\u001b[49m\u001b[43m,\u001b[49m\u001b[43m \u001b[49m\u001b[43mcasting\u001b[49m\u001b[38;5;241;43m=\u001b[39;49m\u001b[43mcasting\u001b[49m\u001b[43m)\u001b[49m\n",
      "\u001b[1;31mValueError\u001b[0m: invalid literal for int() with base 10: 'skilled'"
     ]
    }
   ],
   "source": [
    "X[:, 1] = S_encoder.transform(X[:, 1])\n",
    "X[:, 2] = J_encoder.transform(X[:, 2])\n",
    "X[:, 3] = H_encoder.transform(X[:, 3])  # Reshape for compatibility\n",
    "X[:, 4] = SA_encoder.transform(X[:, 4])  # Reshape for compatibility\n",
    "X[:, 5] = CA_encoder.transform(X[:, 5])  # Reshape for compatibility\n",
    "X[:, 8] = P_encoder.transform(X[:, 8])  # Reshape for compatibility \n",
    "X=X.astype(float)\n",
    "X"
   ]
  },
  {
   "cell_type": "code",
   "execution_count": null,
   "id": "851459a5",
   "metadata": {},
   "outputs": [],
   "source": [
    "pred=svm_model.predict(X)\n",
    "pred"
   ]
  },
  {
   "cell_type": "code",
   "execution_count": null,
   "id": "94c8521a",
   "metadata": {},
   "outputs": [],
   "source": [
    "data={\"model\": svm_model, \"S_encoder\": S_encoder, \"J_encoder\": J_encoder, \"H_encoder\": H_encoder, \"SA_encoder\": SA_encoder, \"CA_encoder\": CA_encoder, \"P_encoder\": P_encoder}\n",
    "\n",
    "with open('credit_predict3.sav', 'wb') as file:\n",
    "    pickle.dump(data, file)"
   ]
  },
  {
   "cell_type": "code",
   "execution_count": null,
   "id": "3e5aed67",
   "metadata": {},
   "outputs": [],
   "source": [
    "with open ('credit_predict3.sav', 'rb') as file:\n",
    "    data = pickle.load(file)\n",
    "\n",
    "svm_loaded=data[\"model\"]\n",
    "S_encoder= data[\"S_encoder\"]\n",
    "J_encoder=data[\"J_encoder\"]\n",
    "H_encoder=data[\"H_encoder\"]\n",
    "SA_encoder=data[\"SA_encoder\"]\n",
    "CA_encoder=data[\"CA_encoder\"]\n",
    "P_encoder=data[\"P_encoder\"]"
   ]
  },
  {
   "cell_type": "code",
   "execution_count": null,
   "id": "e3e766eb",
   "metadata": {},
   "outputs": [],
   "source": [
    "predd = svm_model.predict(X)\n",
    "predd"
   ]
  },
  {
   "cell_type": "code",
   "execution_count": null,
   "id": "da3b6658",
   "metadata": {},
   "outputs": [],
   "source": []
  }
 ],
 "metadata": {
  "kernelspec": {
   "display_name": "Python 3 (ipykernel)",
   "language": "python",
   "name": "python3"
  },
  "language_info": {
   "codemirror_mode": {
    "name": "ipython",
    "version": 3
   },
   "file_extension": ".py",
   "mimetype": "text/x-python",
   "name": "python",
   "nbconvert_exporter": "python",
   "pygments_lexer": "ipython3",
   "version": "3.10.9"
  },
  "papermill": {
   "default_parameters": {},
   "duration": 79.628764,
   "end_time": "2023-05-31T00:08:05.333441",
   "environment_variables": {},
   "exception": null,
   "input_path": "__notebook__.ipynb",
   "output_path": "__notebook__.ipynb",
   "parameters": {},
   "start_time": "2023-05-31T00:06:45.704677",
   "version": "2.4.0"
  }
 },
 "nbformat": 4,
 "nbformat_minor": 5
}
